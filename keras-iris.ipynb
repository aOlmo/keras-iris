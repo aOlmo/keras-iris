{
 "cells": [
  {
   "cell_type": "markdown",
   "metadata": {},
   "source": [
    "# <span style=\"color:blue\"> Red Neuronal con Keras e Iris dataset "
   ]
  },
  {
   "cell_type": "code",
   "execution_count": 8,
   "metadata": {},
   "outputs": [],
   "source": [
    "import os\n",
    "import numpy\n",
    "import pandas\n",
    "import matplotlib.pyplot as plt\n",
    "\n",
    "from keras.layers import Dense\n",
    "from keras.utils import np_utils\n",
    "from keras.models import Sequential\n",
    "\n",
    "from sklearn.pipeline import Pipeline\n",
    "from sklearn.cross_validation import KFold\n",
    "from sklearn.preprocessing import LabelEncoder\n",
    "from sklearn.cross_validation import cross_val_score\n",
    "\n",
    "from sklearn.model_selection import train_test_split\n",
    "\n",
    "weights_name = \"weights.hdf5\"\n",
    "numpy.random.seed(0)"
   ]
  },
  {
   "cell_type": "markdown",
   "metadata": {},
   "source": [
    "### <span style=\"color:blue\"> 1. Cargar el dataset </span>"
   ]
  },
  {
   "cell_type": "code",
   "execution_count": 2,
   "metadata": {
    "collapsed": true
   },
   "outputs": [],
   "source": [
    "dataframe = pandas.read_csv(\"iris.csv\", header=None)\n",
    "dataset = dataframe.values\n",
    "\n",
    "X = dataset[:,0:4].astype(float)\n",
    "Y = dataset[:,4]"
   ]
  },
  {
   "cell_type": "markdown",
   "metadata": {},
   "source": [
    "Con <b>train_test_split</b> podemos dividir todo el dataset en **training** y **test** sets:"
   ]
  },
  {
   "cell_type": "code",
   "execution_count": 3,
   "metadata": {
    "collapsed": true
   },
   "outputs": [],
   "source": [
    "X_train, X_test, y_train, y_test = \\\n",
    "          train_test_split(X, Y, test_size=0.2, random_state=42)"
   ]
  },
  {
   "cell_type": "markdown",
   "metadata": {},
   "source": [
    "### <span style=\"color:blue\">2.  Preprocesar las labels"
   ]
  },
  {
   "cell_type": "code",
   "execution_count": 4,
   "metadata": {
    "collapsed": true
   },
   "outputs": [],
   "source": [
    "# Con LabelEncoder encontramos cuantos valores diferentes hay en Y\n",
    "encoder = LabelEncoder()\n",
    "encoder.fit(y_train)\n",
    "encoded_y_train = encoder.transform(y_train)"
   ]
  },
  {
   "cell_type": "code",
   "execution_count": 5,
   "metadata": {},
   "outputs": [
    {
     "data": {
      "text/plain": [
       "array([0, 0, 1, 0, 0, 2, 1, 0, 0, 0])"
      ]
     },
     "execution_count": 5,
     "metadata": {},
     "output_type": "execute_result"
    }
   ],
   "source": [
    "encoded_y_train[:10]"
   ]
  },
  {
   "cell_type": "code",
   "execution_count": 6,
   "metadata": {},
   "outputs": [
    {
     "data": {
      "text/plain": [
       "array([[ 1.,  0.,  0.],\n",
       "       [ 1.,  0.,  0.],\n",
       "       [ 0.,  1.,  0.]])"
      ]
     },
     "execution_count": 6,
     "metadata": {},
     "output_type": "execute_result"
    }
   ],
   "source": [
    "encoder.fit(y_test)\n",
    "encoded_y_test = encoder.transform(y_test)\n",
    "\n",
    "# to_categorical convierte las labels en un one-hot vector\n",
    "y_train = np_utils.to_categorical(encoded_y_train)\n",
    "y_test = np_utils.to_categorical(encoded_y_test)\n",
    "\n",
    "y_train[:3]"
   ]
  },
  {
   "cell_type": "markdown",
   "metadata": {},
   "source": [
    "### <span style=\"color:blue\"> 3. Crear el modelo"
   ]
  },
  {
   "cell_type": "markdown",
   "metadata": {},
   "source": [
    "La siguiente red neuronal tendrá la forma **4-10-10-3**"
   ]
  },
  {
   "cell_type": "code",
   "execution_count": 7,
   "metadata": {},
   "outputs": [
    {
     "name": "stdout",
     "output_type": "stream",
     "text": [
      "_________________________________________________________________\n",
      "Layer (type)                 Output Shape              Param #   \n",
      "=================================================================\n",
      "dense_1 (Dense)              (None, 4)                 20        \n",
      "_________________________________________________________________\n",
      "dense_2 (Dense)              (None, 10)                50        \n",
      "_________________________________________________________________\n",
      "dense_3 (Dense)              (None, 10)                110       \n",
      "_________________________________________________________________\n",
      "dense_4 (Dense)              (None, 3)                 33        \n",
      "=================================================================\n",
      "Total params: 213\n",
      "Trainable params: 213\n",
      "Non-trainable params: 0\n",
      "_________________________________________________________________\n"
     ]
    },
    {
     "name": "stderr",
     "output_type": "stream",
     "text": [
      "/home/aolmo/anaconda3/lib/python3.6/site-packages/ipykernel_launcher.py:5: UserWarning: Update your `Dense` call to the Keras 2 API: `Dense(4, input_dim=4, activation=\"relu\", kernel_initializer=\"normal\")`\n",
      "  \"\"\"\n"
     ]
    }
   ],
   "source": [
    "# Elegimos el tipo de modelo\n",
    "model = Sequential()\n",
    "\n",
    "# Añadimos las layers\n",
    "model.add(Dense(4, input_dim=4, init='normal', activation='relu'))\n",
    "model.add(Dense(10, activation='relu'))\n",
    "model.add(Dense(10, activation='relu'))\n",
    "model.add(Dense(3, activation='sigmoid'))\n",
    "model.compile(loss='categorical_crossentropy', optimizer='adam', metrics=['accuracy'])\n",
    "\n",
    "# Printa el resumen del modelo\n",
    "model.summary()"
   ]
  },
  {
   "cell_type": "markdown",
   "metadata": {},
   "source": [
    "### <span style=\"color:blue\"> 4. Entrenar el modelo con el training set"
   ]
  },
  {
   "cell_type": "code",
   "execution_count": 9,
   "metadata": {},
   "outputs": [
    {
     "name": "stdout",
     "output_type": "stream",
     "text": [
      "Epoch 1/200\n",
      "120/120 [==============================] - 0s - loss: 1.0991 - acc: 0.5333     \n",
      "Epoch 2/200\n",
      "120/120 [==============================] - 0s - loss: 1.0966 - acc: 0.6667     \n",
      "Epoch 3/200\n",
      "120/120 [==============================] - 0s - loss: 1.0927 - acc: 0.6750     \n",
      "Epoch 4/200\n",
      "120/120 [==============================] - 0s - loss: 1.0818 - acc: 0.6750     \n",
      "Epoch 5/200\n",
      "120/120 [==============================] - 0s - loss: 1.0657 - acc: 0.6750     \n",
      "Epoch 6/200\n",
      "120/120 [==============================] - 0s - loss: 1.0386 - acc: 0.6750     \n",
      "Epoch 7/200\n",
      "120/120 [==============================] - 0s - loss: 1.0001 - acc: 0.6750     \n",
      "Epoch 8/200\n",
      "120/120 [==============================] - 0s - loss: 0.9457 - acc: 0.6750     \n",
      "Epoch 9/200\n",
      "120/120 [==============================] - 0s - loss: 0.8712 - acc: 0.6750     \n",
      "Epoch 10/200\n",
      "120/120 [==============================] - 0s - loss: 0.7834 - acc: 0.6750     \n",
      "Epoch 11/200\n",
      "120/120 [==============================] - 0s - loss: 0.6880 - acc: 0.6750     \n",
      "Epoch 12/200\n",
      "120/120 [==============================] - 0s - loss: 0.6034 - acc: 0.6750     \n",
      "Epoch 13/200\n",
      "120/120 [==============================] - 0s - loss: 0.5383 - acc: 0.6750     \n",
      "Epoch 14/200\n",
      "120/120 [==============================] - 0s - loss: 0.4865 - acc: 0.6750     \n",
      "Epoch 15/200\n",
      "120/120 [==============================] - 0s - loss: 0.4470 - acc: 0.6750     \n",
      "Epoch 16/200\n",
      "120/120 [==============================] - 0s - loss: 0.4159 - acc: 0.6750     \n",
      "Epoch 17/200\n",
      "120/120 [==============================] - 0s - loss: 0.3957 - acc: 0.6750     \n",
      "Epoch 18/200\n",
      "120/120 [==============================] - 0s - loss: 0.3710 - acc: 0.6750     \n",
      "Epoch 19/200\n",
      "120/120 [==============================] - 0s - loss: 0.3549 - acc: 0.6750     \n",
      "Epoch 20/200\n",
      "120/120 [==============================] - 0s - loss: 0.3424 - acc: 0.6750     \n",
      "Epoch 21/200\n",
      "120/120 [==============================] - 0s - loss: 0.3258 - acc: 0.6750     \n",
      "Epoch 22/200\n",
      "120/120 [==============================] - 0s - loss: 0.3367 - acc: 0.6750     \n",
      "Epoch 23/200\n",
      "120/120 [==============================] - 0s - loss: 0.3153 - acc: 0.6750     \n",
      "Epoch 24/200\n",
      "120/120 [==============================] - 0s - loss: 0.3090 - acc: 0.6750     \n",
      "Epoch 25/200\n",
      "120/120 [==============================] - 0s - loss: 0.3043 - acc: 0.6833     \n",
      "Epoch 26/200\n",
      "120/120 [==============================] - 0s - loss: 0.2982 - acc: 0.6917     \n",
      "Epoch 27/200\n",
      "120/120 [==============================] - 0s - loss: 0.2960 - acc: 0.7083     \n",
      "Epoch 28/200\n",
      "120/120 [==============================] - 0s - loss: 0.2880 - acc: 0.8667     \n",
      "Epoch 29/200\n",
      "120/120 [==============================] - 0s - loss: 0.2880 - acc: 0.8167     \n",
      "Epoch 30/200\n",
      "120/120 [==============================] - 0s - loss: 0.2789 - acc: 0.8750     \n",
      "Epoch 31/200\n",
      "120/120 [==============================] - 0s - loss: 0.2771 - acc: 0.8833     \n",
      "Epoch 32/200\n",
      "120/120 [==============================] - 0s - loss: 0.2661 - acc: 0.9250     \n",
      "Epoch 33/200\n",
      "120/120 [==============================] - 0s - loss: 0.2596 - acc: 0.9250     \n",
      "Epoch 34/200\n",
      "120/120 [==============================] - 0s - loss: 0.2510 - acc: 0.9500     \n",
      "Epoch 35/200\n",
      "120/120 [==============================] - 0s - loss: 0.2389 - acc: 0.9583     \n",
      "Epoch 36/200\n",
      "120/120 [==============================] - 0s - loss: 0.2031 - acc: 0.9667     \n",
      "Epoch 37/200\n",
      "120/120 [==============================] - 0s - loss: 0.1701 - acc: 0.9750     \n",
      "Epoch 38/200\n",
      "120/120 [==============================] - 0s - loss: 0.1516 - acc: 0.9750     \n",
      "Epoch 39/200\n",
      "120/120 [==============================] - 0s - loss: 0.1310 - acc: 0.9750     \n",
      "Epoch 40/200\n",
      "120/120 [==============================] - 0s - loss: 0.1105 - acc: 0.9833     \n",
      "Epoch 41/200\n",
      "120/120 [==============================] - 0s - loss: 0.1065 - acc: 0.9500     \n",
      "Epoch 42/200\n",
      "120/120 [==============================] - 0s - loss: 0.0996 - acc: 0.9667     \n",
      "Epoch 43/200\n",
      "120/120 [==============================] - 0s - loss: 0.0983 - acc: 0.9833     \n",
      "Epoch 44/200\n",
      "120/120 [==============================] - 0s - loss: 0.0966 - acc: 0.9750     \n",
      "Epoch 45/200\n",
      "120/120 [==============================] - 0s - loss: 0.1181 - acc: 0.9583     \n",
      "Epoch 46/200\n",
      "120/120 [==============================] - 0s - loss: 0.0884 - acc: 0.9583     \n",
      "Epoch 47/200\n",
      "120/120 [==============================] - 0s - loss: 0.0871 - acc: 0.9667     \n",
      "Epoch 48/200\n",
      "120/120 [==============================] - 0s - loss: 0.0936 - acc: 0.9667     \n",
      "Epoch 49/200\n",
      "120/120 [==============================] - 0s - loss: 0.0822 - acc: 0.9667     \n",
      "Epoch 50/200\n",
      "120/120 [==============================] - 0s - loss: 0.0805 - acc: 0.9750     \n",
      "Epoch 51/200\n",
      "120/120 [==============================] - 0s - loss: 0.0879 - acc: 0.9750     \n",
      "Epoch 52/200\n",
      "120/120 [==============================] - 0s - loss: 0.0790 - acc: 0.9833     \n",
      "Epoch 53/200\n",
      "120/120 [==============================] - 0s - loss: 0.0782 - acc: 0.9667     \n",
      "Epoch 54/200\n",
      "120/120 [==============================] - 0s - loss: 0.0756 - acc: 0.9667     \n",
      "Epoch 55/200\n",
      "120/120 [==============================] - 0s - loss: 0.0766 - acc: 0.9750     \n",
      "Epoch 56/200\n",
      "120/120 [==============================] - 0s - loss: 0.0786 - acc: 0.9667     \n",
      "Epoch 57/200\n",
      "120/120 [==============================] - 0s - loss: 0.0829 - acc: 0.9750     \n",
      "Epoch 58/200\n",
      "120/120 [==============================] - 0s - loss: 0.0793 - acc: 0.9583     \n",
      "Epoch 59/200\n",
      "120/120 [==============================] - 0s - loss: 0.0866 - acc: 0.9667     \n",
      "Epoch 60/200\n",
      "120/120 [==============================] - 0s - loss: 0.0716 - acc: 0.9750     \n",
      "Epoch 61/200\n",
      "120/120 [==============================] - 0s - loss: 0.0774 - acc: 0.9667     \n",
      "Epoch 62/200\n",
      "120/120 [==============================] - 0s - loss: 0.1054 - acc: 0.9667     \n",
      "Epoch 63/200\n",
      "120/120 [==============================] - 0s - loss: 0.0763 - acc: 0.9667     \n",
      "Epoch 64/200\n",
      "120/120 [==============================] - 0s - loss: 0.0668 - acc: 0.9750     \n",
      "Epoch 65/200\n",
      "120/120 [==============================] - 0s - loss: 0.0848 - acc: 0.9667     \n",
      "Epoch 66/200\n",
      "120/120 [==============================] - 0s - loss: 0.0705 - acc: 0.9750     \n",
      "Epoch 67/200\n",
      "120/120 [==============================] - 0s - loss: 0.0788 - acc: 0.9750     \n",
      "Epoch 68/200\n",
      "120/120 [==============================] - 0s - loss: 0.0680 - acc: 0.9750     \n",
      "Epoch 69/200\n",
      "120/120 [==============================] - 0s - loss: 0.0773 - acc: 0.9750     \n",
      "Epoch 70/200\n",
      "120/120 [==============================] - 0s - loss: 0.0691 - acc: 0.9750     \n",
      "Epoch 71/200\n",
      "120/120 [==============================] - 0s - loss: 0.0689 - acc: 0.9583     \n",
      "Epoch 72/200\n",
      "120/120 [==============================] - 0s - loss: 0.0686 - acc: 0.9750     \n",
      "Epoch 73/200\n",
      "120/120 [==============================] - 0s - loss: 0.0753 - acc: 0.9750     \n",
      "Epoch 74/200\n",
      "120/120 [==============================] - 0s - loss: 0.0677 - acc: 0.9750     \n",
      "Epoch 75/200\n",
      "120/120 [==============================] - 0s - loss: 0.0634 - acc: 0.9833     \n",
      "Epoch 76/200\n",
      "120/120 [==============================] - 0s - loss: 0.0953 - acc: 0.9583     \n",
      "Epoch 77/200\n",
      "120/120 [==============================] - 0s - loss: 0.0729 - acc: 0.9667     \n",
      "Epoch 78/200\n",
      "120/120 [==============================] - 0s - loss: 0.0715 - acc: 0.9583     \n",
      "Epoch 79/200\n",
      "120/120 [==============================] - 0s - loss: 0.0743 - acc: 0.9750     \n",
      "Epoch 80/200\n",
      "120/120 [==============================] - 0s - loss: 0.0683 - acc: 0.9750     \n",
      "Epoch 81/200\n",
      "120/120 [==============================] - 0s - loss: 0.0663 - acc: 0.9833     \n",
      "Epoch 82/200\n",
      "120/120 [==============================] - 0s - loss: 0.0641 - acc: 0.9667     \n",
      "Epoch 83/200\n",
      "120/120 [==============================] - 0s - loss: 0.0633 - acc: 0.9750     \n",
      "Epoch 84/200\n",
      "120/120 [==============================] - 0s - loss: 0.0640 - acc: 0.9833     \n",
      "Epoch 85/200\n",
      "120/120 [==============================] - 0s - loss: 0.0656 - acc: 0.9667     \n",
      "Epoch 86/200\n",
      "120/120 [==============================] - 0s - loss: 0.0640 - acc: 0.9750     \n",
      "Epoch 87/200\n",
      "120/120 [==============================] - 0s - loss: 0.0714 - acc: 0.9750     \n",
      "Epoch 88/200\n",
      "120/120 [==============================] - 0s - loss: 0.0705 - acc: 0.9667     \n",
      "Epoch 89/200\n"
     ]
    },
    {
     "name": "stdout",
     "output_type": "stream",
     "text": [
      "120/120 [==============================] - 0s - loss: 0.0822 - acc: 0.9667     \n",
      "Epoch 90/200\n",
      "120/120 [==============================] - 0s - loss: 0.0710 - acc: 0.9750     \n",
      "Epoch 91/200\n",
      "120/120 [==============================] - 0s - loss: 0.0684 - acc: 0.9750     \n",
      "Epoch 92/200\n",
      "120/120 [==============================] - 0s - loss: 0.0758 - acc: 0.9667     \n",
      "Epoch 93/200\n",
      "120/120 [==============================] - 0s - loss: 0.0834 - acc: 0.9583     \n",
      "Epoch 94/200\n",
      "120/120 [==============================] - 0s - loss: 0.0654 - acc: 0.9750     \n",
      "Epoch 95/200\n",
      "120/120 [==============================] - 0s - loss: 0.0840 - acc: 0.9667     \n",
      "Epoch 96/200\n",
      "120/120 [==============================] - 0s - loss: 0.0756 - acc: 0.9667     \n",
      "Epoch 97/200\n",
      "120/120 [==============================] - 0s - loss: 0.0642 - acc: 0.9667     \n",
      "Epoch 98/200\n",
      "120/120 [==============================] - 0s - loss: 0.0613 - acc: 0.9750     \n",
      "Epoch 99/200\n",
      "120/120 [==============================] - 0s - loss: 0.0706 - acc: 0.9750     \n",
      "Epoch 100/200\n",
      "120/120 [==============================] - 0s - loss: 0.0803 - acc: 0.9583     \n",
      "Epoch 101/200\n",
      "120/120 [==============================] - 0s - loss: 0.0646 - acc: 0.9833     \n",
      "Epoch 102/200\n",
      "120/120 [==============================] - 0s - loss: 0.0595 - acc: 0.9750     \n",
      "Epoch 103/200\n",
      "120/120 [==============================] - 0s - loss: 0.0739 - acc: 0.9667     \n",
      "Epoch 104/200\n",
      "120/120 [==============================] - 0s - loss: 0.0643 - acc: 0.9583     \n",
      "Epoch 105/200\n",
      "120/120 [==============================] - 0s - loss: 0.0689 - acc: 0.9750     \n",
      "Epoch 106/200\n",
      "120/120 [==============================] - 0s - loss: 0.0706 - acc: 0.9583     \n",
      "Epoch 107/200\n",
      "120/120 [==============================] - 0s - loss: 0.0594 - acc: 0.9750     \n",
      "Epoch 108/200\n",
      "120/120 [==============================] - 0s - loss: 0.0632 - acc: 0.9750     \n",
      "Epoch 109/200\n",
      "120/120 [==============================] - 0s - loss: 0.0648 - acc: 0.9833     \n",
      "Epoch 110/200\n",
      "120/120 [==============================] - 0s - loss: 0.0695 - acc: 0.9667     \n",
      "Epoch 111/200\n",
      "120/120 [==============================] - 0s - loss: 0.0892 - acc: 0.9750     \n",
      "Epoch 112/200\n",
      "120/120 [==============================] - 0s - loss: 0.0709 - acc: 0.9583     \n",
      "Epoch 113/200\n",
      "120/120 [==============================] - 0s - loss: 0.0667 - acc: 0.9667     \n",
      "Epoch 114/200\n",
      "120/120 [==============================] - 0s - loss: 0.0626 - acc: 0.9750     \n",
      "Epoch 115/200\n",
      "120/120 [==============================] - 0s - loss: 0.0649 - acc: 0.9667     \n",
      "Epoch 116/200\n",
      "120/120 [==============================] - 0s - loss: 0.0640 - acc: 0.9833     \n",
      "Epoch 117/200\n",
      "120/120 [==============================] - 0s - loss: 0.0622 - acc: 0.9667     \n",
      "Epoch 118/200\n",
      "120/120 [==============================] - 0s - loss: 0.0635 - acc: 0.9833     \n",
      "Epoch 119/200\n",
      "120/120 [==============================] - 0s - loss: 0.0719 - acc: 0.9750     \n",
      "Epoch 120/200\n",
      "120/120 [==============================] - 0s - loss: 0.0812 - acc: 0.9667     \n",
      "Epoch 121/200\n",
      "120/120 [==============================] - 0s - loss: 0.0607 - acc: 0.9667     \n",
      "Epoch 122/200\n",
      "120/120 [==============================] - 0s - loss: 0.0599 - acc: 0.9750         \n",
      "Epoch 123/200\n",
      "120/120 [==============================] - 0s - loss: 0.0586 - acc: 0.9750     \n",
      "Epoch 124/200\n",
      "120/120 [==============================] - 0s - loss: 0.0626 - acc: 0.9833     \n",
      "Epoch 125/200\n",
      "120/120 [==============================] - 0s - loss: 0.0643 - acc: 0.9750     \n",
      "Epoch 126/200\n",
      "120/120 [==============================] - 0s - loss: 0.0624 - acc: 0.9750     \n",
      "Epoch 127/200\n",
      "120/120 [==============================] - 0s - loss: 0.0793 - acc: 0.9583     \n",
      "Epoch 128/200\n",
      "120/120 [==============================] - 0s - loss: 0.0715 - acc: 0.9750     \n",
      "Epoch 129/200\n",
      "120/120 [==============================] - 0s - loss: 0.0623 - acc: 0.9667     \n",
      "Epoch 130/200\n",
      "120/120 [==============================] - 0s - loss: 0.0649 - acc: 0.9750     \n",
      "Epoch 131/200\n",
      "120/120 [==============================] - 0s - loss: 0.0621 - acc: 0.9667     \n",
      "Epoch 132/200\n",
      "120/120 [==============================] - 0s - loss: 0.0681 - acc: 0.9750     \n",
      "Epoch 133/200\n",
      "120/120 [==============================] - 0s - loss: 0.0636 - acc: 0.9667     \n",
      "Epoch 134/200\n",
      "120/120 [==============================] - 0s - loss: 0.0686 - acc: 0.9750     \n",
      "Epoch 135/200\n",
      "120/120 [==============================] - 0s - loss: 0.0767 - acc: 0.9667     \n",
      "Epoch 136/200\n",
      "120/120 [==============================] - ETA: 0s - loss: 0.1156 - acc: 1.000 - 0s - loss: 0.0623 - acc: 0.9833     \n",
      "Epoch 137/200\n",
      "120/120 [==============================] - 0s - loss: 0.0679 - acc: 0.9667     \n",
      "Epoch 138/200\n",
      "120/120 [==============================] - 0s - loss: 0.0717 - acc: 0.9667     \n",
      "Epoch 139/200\n",
      "120/120 [==============================] - 0s - loss: 0.0597 - acc: 0.9750     \n",
      "Epoch 140/200\n",
      "120/120 [==============================] - 0s - loss: 0.0596 - acc: 0.9833         \n",
      "Epoch 141/200\n",
      "120/120 [==============================] - 0s - loss: 0.0588 - acc: 0.9750     \n",
      "Epoch 142/200\n",
      "120/120 [==============================] - 0s - loss: 0.0624 - acc: 0.9667         \n",
      "Epoch 143/200\n",
      "120/120 [==============================] - 0s - loss: 0.0955 - acc: 0.9667     \n",
      "Epoch 144/200\n",
      "120/120 [==============================] - 0s - loss: 0.0854 - acc: 0.9583     \n",
      "Epoch 145/200\n",
      "120/120 [==============================] - 0s - loss: 0.0583 - acc: 0.9750     \n",
      "Epoch 146/200\n",
      "120/120 [==============================] - 0s - loss: 0.0705 - acc: 0.9583     \n",
      "Epoch 147/200\n",
      "120/120 [==============================] - 0s - loss: 0.0696 - acc: 0.9667     \n",
      "Epoch 148/200\n",
      "120/120 [==============================] - 0s - loss: 0.0595 - acc: 0.9667     \n",
      "Epoch 149/200\n",
      "120/120 [==============================] - 0s - loss: 0.0634 - acc: 0.9750         \n",
      "Epoch 150/200\n",
      "120/120 [==============================] - 0s - loss: 0.0713 - acc: 0.9667     \n",
      "Epoch 151/200\n",
      "120/120 [==============================] - 0s - loss: 0.0630 - acc: 0.9667     \n",
      "Epoch 152/200\n",
      "120/120 [==============================] - 0s - loss: 0.0590 - acc: 0.9833     \n",
      "Epoch 153/200\n",
      "120/120 [==============================] - 0s - loss: 0.0596 - acc: 0.9750     \n",
      "Epoch 154/200\n",
      "120/120 [==============================] - 0s - loss: 0.0650 - acc: 0.9833     \n",
      "Epoch 155/200\n",
      "120/120 [==============================] - 0s - loss: 0.0632 - acc: 0.9667     \n",
      "Epoch 156/200\n",
      "120/120 [==============================] - 0s - loss: 0.0606 - acc: 0.9750     \n",
      "Epoch 157/200\n",
      "120/120 [==============================] - 0s - loss: 0.0656 - acc: 0.9667     \n",
      "Epoch 158/200\n",
      "120/120 [==============================] - 0s - loss: 0.0608 - acc: 0.9750     \n",
      "Epoch 159/200\n",
      "120/120 [==============================] - 0s - loss: 0.0624 - acc: 0.9750     \n",
      "Epoch 160/200\n",
      "120/120 [==============================] - 0s - loss: 0.0788 - acc: 0.9750     \n",
      "Epoch 161/200\n",
      "120/120 [==============================] - 0s - loss: 0.0694 - acc: 0.9667     \n",
      "Epoch 162/200\n",
      "120/120 [==============================] - 0s - loss: 0.0612 - acc: 0.9750     \n",
      "Epoch 163/200\n",
      "120/120 [==============================] - 0s - loss: 0.0597 - acc: 0.9750     \n",
      "Epoch 164/200\n",
      "120/120 [==============================] - 0s - loss: 0.0586 - acc: 0.9833     \n",
      "Epoch 165/200\n",
      "120/120 [==============================] - 0s - loss: 0.0614 - acc: 0.9750     \n",
      "Epoch 166/200\n",
      "120/120 [==============================] - 0s - loss: 0.0643 - acc: 0.9750         \n",
      "Epoch 167/200\n",
      "120/120 [==============================] - 0s - loss: 0.0613 - acc: 0.9750     \n",
      "Epoch 168/200\n",
      "120/120 [==============================] - 0s - loss: 0.0665 - acc: 0.9750     \n",
      "Epoch 169/200\n",
      "120/120 [==============================] - 0s - loss: 0.0608 - acc: 0.9667     \n",
      "Epoch 170/200\n",
      "120/120 [==============================] - 0s - loss: 0.0576 - acc: 0.9750     \n",
      "Epoch 171/200\n",
      "120/120 [==============================] - 0s - loss: 0.0582 - acc: 0.9750     \n",
      "Epoch 172/200\n",
      "120/120 [==============================] - 0s - loss: 0.0668 - acc: 0.9667     \n",
      "Epoch 173/200\n",
      "120/120 [==============================] - 0s - loss: 0.0609 - acc: 0.9750     \n",
      "Epoch 174/200\n",
      "120/120 [==============================] - 0s - loss: 0.0657 - acc: 0.9667     \n",
      "Epoch 175/200\n"
     ]
    },
    {
     "name": "stdout",
     "output_type": "stream",
     "text": [
      "120/120 [==============================] - 0s - loss: 0.0575 - acc: 0.9833     \n",
      "Epoch 176/200\n",
      "120/120 [==============================] - 0s - loss: 0.0583 - acc: 0.9833     \n",
      "Epoch 177/200\n",
      "120/120 [==============================] - 0s - loss: 0.0688 - acc: 0.9750     \n",
      "Epoch 178/200\n",
      "120/120 [==============================] - 0s - loss: 0.0662 - acc: 0.9750     \n",
      "Epoch 179/200\n",
      "120/120 [==============================] - 0s - loss: 0.0762 - acc: 0.9583     \n",
      "Epoch 180/200\n",
      "120/120 [==============================] - 0s - loss: 0.0637 - acc: 0.9750     \n",
      "Epoch 181/200\n",
      "120/120 [==============================] - 0s - loss: 0.0847 - acc: 0.9500     \n",
      "Epoch 182/200\n",
      "120/120 [==============================] - 0s - loss: 0.0613 - acc: 0.9833     \n",
      "Epoch 183/200\n",
      "120/120 [==============================] - 0s - loss: 0.0794 - acc: 0.9750     \n",
      "Epoch 184/200\n",
      "120/120 [==============================] - 0s - loss: 0.0757 - acc: 0.9667         \n",
      "Epoch 185/200\n",
      "120/120 [==============================] - 0s - loss: 0.0714 - acc: 0.9667     \n",
      "Epoch 186/200\n",
      "120/120 [==============================] - 0s - loss: 0.0601 - acc: 0.9750     \n",
      "Epoch 187/200\n",
      "120/120 [==============================] - 0s - loss: 0.0686 - acc: 0.9750     \n",
      "Epoch 188/200\n",
      "120/120 [==============================] - 0s - loss: 0.0613 - acc: 0.9750     \n",
      "Epoch 189/200\n",
      "120/120 [==============================] - 0s - loss: 0.0663 - acc: 0.9750         \n",
      "Epoch 190/200\n",
      "120/120 [==============================] - 0s - loss: 0.0589 - acc: 0.9833     \n",
      "Epoch 191/200\n",
      "120/120 [==============================] - 0s - loss: 0.0589 - acc: 0.9750     \n",
      "Epoch 192/200\n",
      "120/120 [==============================] - 0s - loss: 0.0594 - acc: 0.9667     \n",
      "Epoch 193/200\n",
      "120/120 [==============================] - 0s - loss: 0.0591 - acc: 0.9750     \n",
      "Epoch 194/200\n",
      "120/120 [==============================] - 0s - loss: 0.0635 - acc: 0.9750     \n",
      "Epoch 195/200\n",
      "120/120 [==============================] - 0s - loss: 0.0626 - acc: 0.9667     \n",
      "Epoch 196/200\n",
      "120/120 [==============================] - 0s - loss: 0.0598 - acc: 0.9833     \n",
      "Epoch 197/200\n",
      "120/120 [==============================] - 0s - loss: 0.0587 - acc: 0.9750     \n",
      "Epoch 198/200\n",
      "120/120 [==============================] - 0s - loss: 0.0586 - acc: 0.9833     \n",
      "Epoch 199/200\n",
      "120/120 [==============================] - 0s - loss: 0.0604 - acc: 0.9750         \n",
      "Epoch 200/200\n",
      "120/120 [==============================] - 0s - loss: 0.0684 - acc: 0.9583     \n"
     ]
    }
   ],
   "source": [
    "history = model.fit(X_train, y_train, epochs=200, batch_size=5)\n",
    "# model.save_weights(weights_name)"
   ]
  },
  {
   "cell_type": "markdown",
   "metadata": {},
   "source": [
    "### <span style=\"color:blue\">5. Evaluar el modelo con el test set y graficar"
   ]
  },
  {
   "cell_type": "code",
   "execution_count": 11,
   "metadata": {},
   "outputs": [
    {
     "name": "stdout",
     "output_type": "stream",
     "text": [
      "(30, 3)\n",
      "30/30 [==============================] - 0s\n",
      "Loss: 0.0479995273054\n",
      "Accuracy: 100.0%\n"
     ]
    }
   ],
   "source": [
    "print(y_test.shape)\n",
    "score = model.evaluate(X_test, y_test)\n",
    "print(\"Loss:\", score[0])\n",
    "print(\"Accuracy: {}%\".format(score[1] * 100))"
   ]
  },
  {
   "cell_type": "code",
   "execution_count": 14,
   "metadata": {},
   "outputs": [
    {
     "data": {
      "image/png": "[encoded data removed]",
      "text/plain": [
       "<matplotlib.figure.Figure at 0x7f34b0125630>"
      ]
     },
     "metadata": {},
     "output_type": "display_data"
    }
   ],
   "source": [
    "plt.plot(history.history['acc'])\n",
    "plt.plot(history.history['loss'])\n",
    "plt.title('model accuracy')\n",
    "plt.ylabel('accuracy')\n",
    "plt.xlabel('Loss')\n",
    "plt.legend(['Accuracy', 'Loss'], loc='center right')\n",
    "plt.show()"
   ]
  }
 ],
 "metadata": {
  "kernelspec": {
   "display_name": "Python 3",
   "language": "python",
   "name": "python3"
  },
  "language_info": {
   "codemirror_mode": {
    "name": "ipython",
    "version": 3
   },
   "file_extension": ".py",
   "mimetype": "text/x-python",
   "name": "python",
   "nbconvert_exporter": "python",
   "pygments_lexer": "ipython3",
   "version": "3.6.1"
  }
 },
 "nbformat": 4,
 "nbformat_minor": 2
}
